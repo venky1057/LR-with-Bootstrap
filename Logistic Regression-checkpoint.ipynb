{
 "cells": [
  {
   "cell_type": "code",
   "execution_count": 165,
   "metadata": {},
   "outputs": [],
   "source": [
    "import numpy as np\n",
    "import pandas as pd\n",
    "import matplotlib.pyplot as plt\n",
    "import seaborn as sns\n",
    "import statsmodels.api as sm\n",
    "from sklearn.metrics import accuracy_score\n",
    "import warnings\n",
    "from sklearn import metrics\n",
    "warnings.filterwarnings(\"ignore\")"
   ]
  },
  {
   "cell_type": "code",
   "execution_count": 166,
   "metadata": {},
   "outputs": [],
   "source": [
    "df=pd.read_csv('E:\\ML-Practice\\Logistic Regression and Bootstrapping\\cancer_data_log.csv')"
   ]
  },
  {
   "cell_type": "code",
   "execution_count": 167,
   "metadata": {},
   "outputs": [
    {
     "data": {
      "text/html": [
       "<div>\n",
       "<style scoped>\n",
       "    .dataframe tbody tr th:only-of-type {\n",
       "        vertical-align: middle;\n",
       "    }\n",
       "\n",
       "    .dataframe tbody tr th {\n",
       "        vertical-align: top;\n",
       "    }\n",
       "\n",
       "    .dataframe thead th {\n",
       "        text-align: right;\n",
       "    }\n",
       "</style>\n",
       "<table border=\"1\" class=\"dataframe\">\n",
       "  <thead>\n",
       "    <tr style=\"text-align: right;\">\n",
       "      <th></th>\n",
       "      <th>Y</th>\n",
       "      <th>Gene 1</th>\n",
       "      <th>Gene 2</th>\n",
       "      <th>Gene 3</th>\n",
       "      <th>Gene 4</th>\n",
       "      <th>Gene 5</th>\n",
       "      <th>Gene 6</th>\n",
       "      <th>Gene 7</th>\n",
       "      <th>Gene 8</th>\n",
       "      <th>Gene 9</th>\n",
       "      <th>...</th>\n",
       "      <th>Gene 6024</th>\n",
       "      <th>Gene 6025</th>\n",
       "      <th>Gene 6026</th>\n",
       "      <th>Gene 6027</th>\n",
       "      <th>Gene 6028</th>\n",
       "      <th>Gene 6029</th>\n",
       "      <th>Gene 6030</th>\n",
       "      <th>Gene 6031</th>\n",
       "      <th>Gene 6032</th>\n",
       "      <th>Gene 6033</th>\n",
       "    </tr>\n",
       "  </thead>\n",
       "  <tbody>\n",
       "    <tr>\n",
       "      <th>0</th>\n",
       "      <td>0</td>\n",
       "      <td>-0.927178</td>\n",
       "      <td>-0.740039</td>\n",
       "      <td>-0.532016</td>\n",
       "      <td>-1.097891</td>\n",
       "      <td>-0.986673</td>\n",
       "      <td>0.018752</td>\n",
       "      <td>-0.863326</td>\n",
       "      <td>3.959997</td>\n",
       "      <td>-0.398219</td>\n",
       "      <td>...</td>\n",
       "      <td>-0.029602</td>\n",
       "      <td>-1.097891</td>\n",
       "      <td>-1.097891</td>\n",
       "      <td>-0.894733</td>\n",
       "      <td>0.850270</td>\n",
       "      <td>-1.097891</td>\n",
       "      <td>-0.302063</td>\n",
       "      <td>-0.767685</td>\n",
       "      <td>-0.452616</td>\n",
       "      <td>0.194001</td>\n",
       "    </tr>\n",
       "    <tr>\n",
       "      <th>1</th>\n",
       "      <td>0</td>\n",
       "      <td>-0.835899</td>\n",
       "      <td>-0.835899</td>\n",
       "      <td>-0.585647</td>\n",
       "      <td>-0.835899</td>\n",
       "      <td>-0.329768</td>\n",
       "      <td>-0.835899</td>\n",
       "      <td>-0.835899</td>\n",
       "      <td>4.037788</td>\n",
       "      <td>-0.835899</td>\n",
       "      <td>...</td>\n",
       "      <td>-0.835899</td>\n",
       "      <td>-0.835899</td>\n",
       "      <td>-0.835899</td>\n",
       "      <td>-0.835899</td>\n",
       "      <td>0.038090</td>\n",
       "      <td>-0.835899</td>\n",
       "      <td>-0.835899</td>\n",
       "      <td>-0.835899</td>\n",
       "      <td>-0.835899</td>\n",
       "      <td>0.075500</td>\n",
       "    </tr>\n",
       "    <tr>\n",
       "      <th>2</th>\n",
       "      <td>0</td>\n",
       "      <td>0.236073</td>\n",
       "      <td>0.252645</td>\n",
       "      <td>-1.154351</td>\n",
       "      <td>-0.372372</td>\n",
       "      <td>-0.338900</td>\n",
       "      <td>1.253467</td>\n",
       "      <td>0.506325</td>\n",
       "      <td>3.868961</td>\n",
       "      <td>0.201932</td>\n",
       "      <td>...</td>\n",
       "      <td>0.860446</td>\n",
       "      <td>-1.154351</td>\n",
       "      <td>-1.154351</td>\n",
       "      <td>-0.372372</td>\n",
       "      <td>0.899781</td>\n",
       "      <td>-0.867200</td>\n",
       "      <td>0.360426</td>\n",
       "      <td>-1.154351</td>\n",
       "      <td>-1.154351</td>\n",
       "      <td>-1.154351</td>\n",
       "    </tr>\n",
       "    <tr>\n",
       "      <th>3</th>\n",
       "      <td>0</td>\n",
       "      <td>-0.748623</td>\n",
       "      <td>-0.439165</td>\n",
       "      <td>0.790953</td>\n",
       "      <td>-1.033876</td>\n",
       "      <td>0.241115</td>\n",
       "      <td>1.216007</td>\n",
       "      <td>0.106282</td>\n",
       "      <td>3.976272</td>\n",
       "      <td>0.081755</td>\n",
       "      <td>...</td>\n",
       "      <td>0.614026</td>\n",
       "      <td>-1.121534</td>\n",
       "      <td>-1.121534</td>\n",
       "      <td>-0.812076</td>\n",
       "      <td>1.230378</td>\n",
       "      <td>-0.355497</td>\n",
       "      <td>0.030647</td>\n",
       "      <td>-0.278810</td>\n",
       "      <td>-1.121534</td>\n",
       "      <td>-1.121534</td>\n",
       "    </tr>\n",
       "    <tr>\n",
       "      <th>4</th>\n",
       "      <td>0</td>\n",
       "      <td>0.101239</td>\n",
       "      <td>-0.298285</td>\n",
       "      <td>-1.121519</td>\n",
       "      <td>-0.957714</td>\n",
       "      <td>0.342258</td>\n",
       "      <td>1.182937</td>\n",
       "      <td>0.029325</td>\n",
       "      <td>4.575871</td>\n",
       "      <td>-0.196466</td>\n",
       "      <td>...</td>\n",
       "      <td>0.639511</td>\n",
       "      <td>-1.121519</td>\n",
       "      <td>-1.121519</td>\n",
       "      <td>-0.454932</td>\n",
       "      <td>0.891627</td>\n",
       "      <td>-0.593427</td>\n",
       "      <td>0.306316</td>\n",
       "      <td>-0.076496</td>\n",
       "      <td>-0.134480</td>\n",
       "      <td>-1.121519</td>\n",
       "    </tr>\n",
       "  </tbody>\n",
       "</table>\n",
       "<p>5 rows × 6034 columns</p>\n",
       "</div>"
      ],
      "text/plain": [
       "   Y    Gene 1    Gene 2    Gene 3    Gene 4    Gene 5    Gene 6    Gene 7  \\\n",
       "0  0 -0.927178 -0.740039 -0.532016 -1.097891 -0.986673  0.018752 -0.863326   \n",
       "1  0 -0.835899 -0.835899 -0.585647 -0.835899 -0.329768 -0.835899 -0.835899   \n",
       "2  0  0.236073  0.252645 -1.154351 -0.372372 -0.338900  1.253467  0.506325   \n",
       "3  0 -0.748623 -0.439165  0.790953 -1.033876  0.241115  1.216007  0.106282   \n",
       "4  0  0.101239 -0.298285 -1.121519 -0.957714  0.342258  1.182937  0.029325   \n",
       "\n",
       "     Gene 8    Gene 9  ...  Gene 6024  Gene 6025  Gene 6026  Gene 6027  \\\n",
       "0  3.959997 -0.398219  ...  -0.029602  -1.097891  -1.097891  -0.894733   \n",
       "1  4.037788 -0.835899  ...  -0.835899  -0.835899  -0.835899  -0.835899   \n",
       "2  3.868961  0.201932  ...   0.860446  -1.154351  -1.154351  -0.372372   \n",
       "3  3.976272  0.081755  ...   0.614026  -1.121534  -1.121534  -0.812076   \n",
       "4  4.575871 -0.196466  ...   0.639511  -1.121519  -1.121519  -0.454932   \n",
       "\n",
       "   Gene 6028  Gene 6029  Gene 6030  Gene 6031  Gene 6032  Gene 6033  \n",
       "0   0.850270  -1.097891  -0.302063  -0.767685  -0.452616   0.194001  \n",
       "1   0.038090  -0.835899  -0.835899  -0.835899  -0.835899   0.075500  \n",
       "2   0.899781  -0.867200   0.360426  -1.154351  -1.154351  -1.154351  \n",
       "3   1.230378  -0.355497   0.030647  -0.278810  -1.121534  -1.121534  \n",
       "4   0.891627  -0.593427   0.306316  -0.076496  -0.134480  -1.121519  \n",
       "\n",
       "[5 rows x 6034 columns]"
      ]
     },
     "execution_count": 167,
     "metadata": {},
     "output_type": "execute_result"
    }
   ],
   "source": [
    "df.head()"
   ]
  },
  {
   "cell_type": "code",
   "execution_count": 168,
   "metadata": {},
   "outputs": [
    {
     "name": "stdout",
     "output_type": "stream",
     "text": [
      "<class 'pandas.core.frame.DataFrame'>\n",
      "RangeIndex: 102 entries, 0 to 101\n",
      "Columns: 6034 entries, Y to Gene 6033\n",
      "dtypes: float64(6033), int64(1)\n",
      "memory usage: 4.7 MB\n"
     ]
    }
   ],
   "source": [
    "df.info()"
   ]
  },
  {
   "cell_type": "code",
   "execution_count": 169,
   "metadata": {},
   "outputs": [
    {
     "data": {
      "text/html": [
       "<div>\n",
       "<style scoped>\n",
       "    .dataframe tbody tr th:only-of-type {\n",
       "        vertical-align: middle;\n",
       "    }\n",
       "\n",
       "    .dataframe tbody tr th {\n",
       "        vertical-align: top;\n",
       "    }\n",
       "\n",
       "    .dataframe thead th {\n",
       "        text-align: right;\n",
       "    }\n",
       "</style>\n",
       "<table border=\"1\" class=\"dataframe\">\n",
       "  <thead>\n",
       "    <tr style=\"text-align: right;\">\n",
       "      <th></th>\n",
       "      <th>Y</th>\n",
       "      <th>Gene 1</th>\n",
       "      <th>Gene 2</th>\n",
       "      <th>Gene 3</th>\n",
       "      <th>Gene 4</th>\n",
       "      <th>Gene 5</th>\n",
       "      <th>Gene 6</th>\n",
       "      <th>Gene 7</th>\n",
       "      <th>Gene 8</th>\n",
       "      <th>Gene 9</th>\n",
       "      <th>...</th>\n",
       "      <th>Gene 6024</th>\n",
       "      <th>Gene 6025</th>\n",
       "      <th>Gene 6026</th>\n",
       "      <th>Gene 6027</th>\n",
       "      <th>Gene 6028</th>\n",
       "      <th>Gene 6029</th>\n",
       "      <th>Gene 6030</th>\n",
       "      <th>Gene 6031</th>\n",
       "      <th>Gene 6032</th>\n",
       "      <th>Gene 6033</th>\n",
       "    </tr>\n",
       "  </thead>\n",
       "  <tbody>\n",
       "    <tr>\n",
       "      <th>count</th>\n",
       "      <td>102.000000</td>\n",
       "      <td>102.000000</td>\n",
       "      <td>102.000000</td>\n",
       "      <td>102.000000</td>\n",
       "      <td>102.000000</td>\n",
       "      <td>102.000000</td>\n",
       "      <td>102.000000</td>\n",
       "      <td>102.000000</td>\n",
       "      <td>102.000000</td>\n",
       "      <td>102.000000</td>\n",
       "      <td>...</td>\n",
       "      <td>102.000000</td>\n",
       "      <td>102.000000</td>\n",
       "      <td>102.000000</td>\n",
       "      <td>102.000000</td>\n",
       "      <td>102.000000</td>\n",
       "      <td>102.000000</td>\n",
       "      <td>102.000000</td>\n",
       "      <td>102.000000</td>\n",
       "      <td>102.000000</td>\n",
       "      <td>102.000000</td>\n",
       "    </tr>\n",
       "    <tr>\n",
       "      <th>mean</th>\n",
       "      <td>0.509804</td>\n",
       "      <td>-0.623086</td>\n",
       "      <td>-0.665809</td>\n",
       "      <td>-0.586693</td>\n",
       "      <td>-0.895592</td>\n",
       "      <td>-0.438002</td>\n",
       "      <td>-0.152997</td>\n",
       "      <td>-0.593764</td>\n",
       "      <td>4.361345</td>\n",
       "      <td>-0.553667</td>\n",
       "      <td>...</td>\n",
       "      <td>0.085543</td>\n",
       "      <td>-0.942715</td>\n",
       "      <td>-0.911446</td>\n",
       "      <td>-0.586700</td>\n",
       "      <td>0.582713</td>\n",
       "      <td>-0.553039</td>\n",
       "      <td>-0.470743</td>\n",
       "      <td>-0.808616</td>\n",
       "      <td>-0.561697</td>\n",
       "      <td>-0.443614</td>\n",
       "    </tr>\n",
       "    <tr>\n",
       "      <th>std</th>\n",
       "      <td>0.502373</td>\n",
       "      <td>0.409905</td>\n",
       "      <td>0.378207</td>\n",
       "      <td>0.497839</td>\n",
       "      <td>0.190989</td>\n",
       "      <td>0.597182</td>\n",
       "      <td>0.789601</td>\n",
       "      <td>0.414790</td>\n",
       "      <td>0.410420</td>\n",
       "      <td>0.399223</td>\n",
       "      <td>...</td>\n",
       "      <td>0.486224</td>\n",
       "      <td>0.198808</td>\n",
       "      <td>0.257675</td>\n",
       "      <td>0.480445</td>\n",
       "      <td>0.474421</td>\n",
       "      <td>0.604060</td>\n",
       "      <td>0.488540</td>\n",
       "      <td>0.259202</td>\n",
       "      <td>0.599590</td>\n",
       "      <td>0.490696</td>\n",
       "    </tr>\n",
       "    <tr>\n",
       "      <th>min</th>\n",
       "      <td>0.000000</td>\n",
       "      <td>-1.130098</td>\n",
       "      <td>-1.206937</td>\n",
       "      <td>-1.301743</td>\n",
       "      <td>-1.206937</td>\n",
       "      <td>-1.301743</td>\n",
       "      <td>-1.143350</td>\n",
       "      <td>-1.143350</td>\n",
       "      <td>3.252179</td>\n",
       "      <td>-1.143350</td>\n",
       "      <td>...</td>\n",
       "      <td>-0.835899</td>\n",
       "      <td>-1.206937</td>\n",
       "      <td>-1.301743</td>\n",
       "      <td>-1.206832</td>\n",
       "      <td>-0.626996</td>\n",
       "      <td>-1.206937</td>\n",
       "      <td>-1.176135</td>\n",
       "      <td>-1.206937</td>\n",
       "      <td>-1.206937</td>\n",
       "      <td>-1.301743</td>\n",
       "    </tr>\n",
       "    <tr>\n",
       "      <th>25%</th>\n",
       "      <td>0.000000</td>\n",
       "      <td>-0.898958</td>\n",
       "      <td>-0.900725</td>\n",
       "      <td>-0.975092</td>\n",
       "      <td>-1.010763</td>\n",
       "      <td>-0.887563</td>\n",
       "      <td>-0.833340</td>\n",
       "      <td>-0.887027</td>\n",
       "      <td>4.020057</td>\n",
       "      <td>-0.848168</td>\n",
       "      <td>...</td>\n",
       "      <td>-0.275132</td>\n",
       "      <td>-1.084164</td>\n",
       "      <td>-1.058078</td>\n",
       "      <td>-0.896785</td>\n",
       "      <td>0.246251</td>\n",
       "      <td>-0.927968</td>\n",
       "      <td>-0.847823</td>\n",
       "      <td>-0.927968</td>\n",
       "      <td>-0.923128</td>\n",
       "      <td>-0.932244</td>\n",
       "    </tr>\n",
       "    <tr>\n",
       "      <th>50%</th>\n",
       "      <td>1.000000</td>\n",
       "      <td>-0.822767</td>\n",
       "      <td>-0.822767</td>\n",
       "      <td>-0.695085</td>\n",
       "      <td>-0.903021</td>\n",
       "      <td>-0.719410</td>\n",
       "      <td>-0.537950</td>\n",
       "      <td>-0.788193</td>\n",
       "      <td>4.378673</td>\n",
       "      <td>-0.750088</td>\n",
       "      <td>...</td>\n",
       "      <td>0.051232</td>\n",
       "      <td>-0.927905</td>\n",
       "      <td>-0.926267</td>\n",
       "      <td>-0.806630</td>\n",
       "      <td>0.618485</td>\n",
       "      <td>-0.790925</td>\n",
       "      <td>-0.747238</td>\n",
       "      <td>-0.854604</td>\n",
       "      <td>-0.809586</td>\n",
       "      <td>-0.258905</td>\n",
       "    </tr>\n",
       "    <tr>\n",
       "      <th>75%</th>\n",
       "      <td>1.000000</td>\n",
       "      <td>-0.332359</td>\n",
       "      <td>-0.469646</td>\n",
       "      <td>-0.290362</td>\n",
       "      <td>-0.830379</td>\n",
       "      <td>0.013333</td>\n",
       "      <td>0.545198</td>\n",
       "      <td>-0.316292</td>\n",
       "      <td>4.683036</td>\n",
       "      <td>-0.268685</td>\n",
       "      <td>...</td>\n",
       "      <td>0.403807</td>\n",
       "      <td>-0.850474</td>\n",
       "      <td>-0.836592</td>\n",
       "      <td>-0.333902</td>\n",
       "      <td>0.964098</td>\n",
       "      <td>-0.358771</td>\n",
       "      <td>-0.093537</td>\n",
       "      <td>-0.764455</td>\n",
       "      <td>-0.335888</td>\n",
       "      <td>-0.024725</td>\n",
       "    </tr>\n",
       "    <tr>\n",
       "      <th>max</th>\n",
       "      <td>1.000000</td>\n",
       "      <td>0.664819</td>\n",
       "      <td>0.468548</td>\n",
       "      <td>0.991212</td>\n",
       "      <td>0.164841</td>\n",
       "      <td>1.098031</td>\n",
       "      <td>1.338133</td>\n",
       "      <td>0.641860</td>\n",
       "      <td>5.494318</td>\n",
       "      <td>0.662006</td>\n",
       "      <td>...</td>\n",
       "      <td>1.189593</td>\n",
       "      <td>0.434193</td>\n",
       "      <td>0.642954</td>\n",
       "      <td>0.905076</td>\n",
       "      <td>1.523627</td>\n",
       "      <td>1.700124</td>\n",
       "      <td>0.681829</td>\n",
       "      <td>0.493369</td>\n",
       "      <td>1.199408</td>\n",
       "      <td>0.357666</td>\n",
       "    </tr>\n",
       "  </tbody>\n",
       "</table>\n",
       "<p>8 rows × 6034 columns</p>\n",
       "</div>"
      ],
      "text/plain": [
       "                Y      Gene 1      Gene 2      Gene 3      Gene 4      Gene 5  \\\n",
       "count  102.000000  102.000000  102.000000  102.000000  102.000000  102.000000   \n",
       "mean     0.509804   -0.623086   -0.665809   -0.586693   -0.895592   -0.438002   \n",
       "std      0.502373    0.409905    0.378207    0.497839    0.190989    0.597182   \n",
       "min      0.000000   -1.130098   -1.206937   -1.301743   -1.206937   -1.301743   \n",
       "25%      0.000000   -0.898958   -0.900725   -0.975092   -1.010763   -0.887563   \n",
       "50%      1.000000   -0.822767   -0.822767   -0.695085   -0.903021   -0.719410   \n",
       "75%      1.000000   -0.332359   -0.469646   -0.290362   -0.830379    0.013333   \n",
       "max      1.000000    0.664819    0.468548    0.991212    0.164841    1.098031   \n",
       "\n",
       "           Gene 6      Gene 7      Gene 8      Gene 9  ...   Gene 6024  \\\n",
       "count  102.000000  102.000000  102.000000  102.000000  ...  102.000000   \n",
       "mean    -0.152997   -0.593764    4.361345   -0.553667  ...    0.085543   \n",
       "std      0.789601    0.414790    0.410420    0.399223  ...    0.486224   \n",
       "min     -1.143350   -1.143350    3.252179   -1.143350  ...   -0.835899   \n",
       "25%     -0.833340   -0.887027    4.020057   -0.848168  ...   -0.275132   \n",
       "50%     -0.537950   -0.788193    4.378673   -0.750088  ...    0.051232   \n",
       "75%      0.545198   -0.316292    4.683036   -0.268685  ...    0.403807   \n",
       "max      1.338133    0.641860    5.494318    0.662006  ...    1.189593   \n",
       "\n",
       "        Gene 6025   Gene 6026   Gene 6027   Gene 6028   Gene 6029   Gene 6030  \\\n",
       "count  102.000000  102.000000  102.000000  102.000000  102.000000  102.000000   \n",
       "mean    -0.942715   -0.911446   -0.586700    0.582713   -0.553039   -0.470743   \n",
       "std      0.198808    0.257675    0.480445    0.474421    0.604060    0.488540   \n",
       "min     -1.206937   -1.301743   -1.206832   -0.626996   -1.206937   -1.176135   \n",
       "25%     -1.084164   -1.058078   -0.896785    0.246251   -0.927968   -0.847823   \n",
       "50%     -0.927905   -0.926267   -0.806630    0.618485   -0.790925   -0.747238   \n",
       "75%     -0.850474   -0.836592   -0.333902    0.964098   -0.358771   -0.093537   \n",
       "max      0.434193    0.642954    0.905076    1.523627    1.700124    0.681829   \n",
       "\n",
       "        Gene 6031   Gene 6032   Gene 6033  \n",
       "count  102.000000  102.000000  102.000000  \n",
       "mean    -0.808616   -0.561697   -0.443614  \n",
       "std      0.259202    0.599590    0.490696  \n",
       "min     -1.206937   -1.206937   -1.301743  \n",
       "25%     -0.927968   -0.923128   -0.932244  \n",
       "50%     -0.854604   -0.809586   -0.258905  \n",
       "75%     -0.764455   -0.335888   -0.024725  \n",
       "max      0.493369    1.199408    0.357666  \n",
       "\n",
       "[8 rows x 6034 columns]"
      ]
     },
     "execution_count": 169,
     "metadata": {},
     "output_type": "execute_result"
    }
   ],
   "source": [
    "df.describe()"
   ]
  },
  {
   "cell_type": "code",
   "execution_count": 170,
   "metadata": {},
   "outputs": [],
   "source": [
    "#Train test Split\n",
    "from sklearn.model_selection import train_test_split\n",
    "X_train, X_test, y_train, y_test = train_test_split( df.drop('Y',axis = 1), df['Y'], test_size=0.33, random_state=42)"
   ]
  },
  {
   "cell_type": "code",
   "execution_count": 171,
   "metadata": {},
   "outputs": [
    {
     "name": "stdout",
     "output_type": "stream",
     "text": [
      "<class 'pandas.core.frame.DataFrame'>\n",
      "Int64Index: 68 entries, 28 to 51\n",
      "Columns: 6033 entries, Gene 1 to Gene 6033\n",
      "dtypes: float64(6033)\n",
      "memory usage: 3.1 MB\n"
     ]
    }
   ],
   "source": [
    "X_train.info()"
   ]
  },
  {
   "cell_type": "code",
   "execution_count": 172,
   "metadata": {},
   "outputs": [],
   "source": [
    "X_train_n=(X_train-X_train.min(axis=0))/(X_train.max(axis=0)-X_train.min(axis=0))\n",
    "X_test_n=(X_test-X_test.min(axis=0))/(X_test.max(axis=0) - X_test.min(axis=0))"
   ]
  },
  {
   "cell_type": "code",
   "execution_count": 173,
   "metadata": {},
   "outputs": [
    {
     "name": "stdout",
     "output_type": "stream",
     "text": [
      "Training Accuracy for Logistic Regression:  1.0\n",
      "Test Accuracy for Logistic Regression:  0.9411764705882353\n"
     ]
    }
   ],
   "source": [
    "from sklearn.linear_model import LogisticRegression\n",
    "log_reg = LogisticRegression(C=100000, fit_intercept=True)\n",
    "log_reg.fit(X_train, y_train)\n",
    "y_predict_train=log_reg.predict(X_train)\n",
    "y_predict_test=log_reg.predict(X_test)\n",
    "print(\"Training Accuracy for Logistic Regression: \", accuracy_score(y_train, y_predict_train))\n",
    "print(\"Test Accuracy for Logistic Regression: \", accuracy_score(y_test, y_predict_test))\n"
   ]
  },
  {
   "cell_type": "code",
   "execution_count": 174,
   "metadata": {},
   "outputs": [
    {
     "data": {
      "text/plain": [
       "array([-0.00392783])"
      ]
     },
     "execution_count": 174,
     "metadata": {},
     "output_type": "execute_result"
    }
   ],
   "source": [
    "log_reg.intercept_"
   ]
  },
  {
   "cell_type": "code",
   "execution_count": 175,
   "metadata": {},
   "outputs": [
    {
     "data": {
      "text/plain": [
       "array([[-0.0098044 , -0.01471885, -0.03635322, ...,  0.01089027,\n",
       "        -0.0081158 , -0.02073262]])"
      ]
     },
     "execution_count": 175,
     "metadata": {},
     "output_type": "execute_result"
    }
   ],
   "source": [
    "log_reg.coef_"
   ]
  },
  {
   "cell_type": "code",
   "execution_count": 176,
   "metadata": {},
   "outputs": [
    {
     "data": {
      "text/plain": [
       "array([[18,  1],\n",
       "       [ 1, 14]], dtype=int64)"
      ]
     },
     "execution_count": 176,
     "metadata": {},
     "output_type": "execute_result"
    }
   ],
   "source": [
    "from sklearn.metrics import confusion_matrix\n",
    "confusion_matrix(y_test,y_predict_test)"
   ]
  },
  {
   "cell_type": "code",
   "execution_count": 177,
   "metadata": {},
   "outputs": [
    {
     "name": "stdout",
     "output_type": "stream",
     "text": [
      "              precision    recall  f1-score   support\n",
      "\n",
      "           0       0.95      0.95      0.95        19\n",
      "           1       0.93      0.93      0.93        15\n",
      "\n",
      "    accuracy                           0.94        34\n",
      "   macro avg       0.94      0.94      0.94        34\n",
      "weighted avg       0.94      0.94      0.94        34\n",
      "\n"
     ]
    }
   ],
   "source": [
    "print(metrics.classification_report(y_test,y_predict_test))"
   ]
  },
  {
   "cell_type": "markdown",
   "metadata": {},
   "source": [
    "# Bootsraping in Logistic Regression Model"
   ]
  },
  {
   "cell_type": "code",
   "execution_count": 178,
   "metadata": {},
   "outputs": [
    {
     "data": {
      "text/plain": [
       "(6033, 50)"
      ]
     },
     "execution_count": 178,
     "metadata": {},
     "output_type": "execute_result"
    }
   ],
   "source": [
    "samples=50 \n",
    "coefs=np.zeros((X_train_n.shape[1],samples))\n",
    "for i in range(samples):\n",
    "    index=np.random.choice(range(len(y_train)),size=len(y_train),replace=True)\n",
    "    X_train_samples=X_train_n.values[index]\n",
    "    y_train_samples=y_train.values[index]\n",
    "    log_boot=LogisticRegression(C=100000,fit_intercept=True)\n",
    "    log_boot.fit(X_train_samples,y_train_samples)\n",
    "    coefs[:,i] = log_boot.coef_\n",
    "coefs.shape\n",
    "    "
   ]
  },
  {
   "cell_type": "code",
   "execution_count": 179,
   "metadata": {},
   "outputs": [],
   "source": [
    "ci_upper = np.percentile(coefs, 97.5, axis=1)\n",
    "ci_lower = np.percentile(coefs, 2.5, axis=1)"
   ]
  },
  {
   "cell_type": "code",
   "execution_count": 180,
   "metadata": {},
   "outputs": [
    {
     "name": "stdout",
     "output_type": "stream",
     "text": [
      "significant predictors at 5 level= 1561/6033\n"
     ]
    }
   ],
   "source": [
    "predictors=0\n",
    "for i in range(len(ci_upper)):\n",
    "    if ci_upper[i]<0 or ci_lower[i]>0:\n",
    "        predictors+=1\n",
    "print(\"significant predictors at 5 level= %i/%i\" % (predictors,X_train_n.shape[1]))"
   ]
  },
  {
   "cell_type": "code",
   "execution_count": null,
   "metadata": {},
   "outputs": [],
   "source": []
  },
  {
   "cell_type": "code",
   "execution_count": null,
   "metadata": {},
   "outputs": [],
   "source": []
  }
 ],
 "metadata": {
  "kernelspec": {
   "display_name": "Python 3",
   "language": "python",
   "name": "python3"
  },
  "language_info": {
   "codemirror_mode": {
    "name": "ipython",
    "version": 3
   },
   "file_extension": ".py",
   "mimetype": "text/x-python",
   "name": "python",
   "nbconvert_exporter": "python",
   "pygments_lexer": "ipython3",
   "version": "3.7.3"
  }
 },
 "nbformat": 4,
 "nbformat_minor": 2
}
